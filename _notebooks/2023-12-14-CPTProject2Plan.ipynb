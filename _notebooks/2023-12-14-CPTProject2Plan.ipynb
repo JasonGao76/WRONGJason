{
 "cells": [
  {
   "cell_type": "markdown",
   "metadata": {},
   "source": [
    "## EARLY BRAINSTORMING IDEAS\n",
    "\n",
    "- Fireboy and Watergirl multiplayer game\n",
    "    - Uses database to store turn-based things\n",
    "\n",
    "- POLYTOPIA Clone? Either civilization based or business based\n",
    "\n",
    "- Text based MetalGear (or other game like tarkov or doom)\n",
    "    - Set outcomes but differing events and random chance\n",
    "    - Not heavy on visuals\n",
    "    - Test based\n",
    "\n",
    "- Turn based history game?\n",
    "    - 2 people, dont know where each other are\n",
    "    - set position to move and events with change\n",
    "\n",
    "- watch designing / customizing\n",
    "\n",
    "- business or other simulator game, idk oregon trail esque\n",
    "\n",
    "- (alternate) history visual novel\n",
    "    - different paths or instances initially and decisions are stored and paths intertwine and influence each other"
   ]
  }
 ],
 "metadata": {
  "language_info": {
   "name": "python"
  }
 },
 "nbformat": 4,
 "nbformat_minor": 2
}
