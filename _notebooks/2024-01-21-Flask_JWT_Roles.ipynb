{
 "cells": [
  {
   "cell_type": "markdown",
   "metadata": {},
   "source": [
    "---\n",
    "toc: true\n",
    "comments: true\n",
    "layout: post\n",
    "title: Flask JWT Roles for User / Admin Student Lesson\n",
    "description: Flask JWT Roles for User / Admin User student lesson presented by Team WRONG (Will, Rayyan, Jason, Nathan, and Grayson)\n",
    "type: hacks\n",
    "courses: { compsci: {week: 20} }\n",
    "---"
   ]
  },
  {
   "cell_type": "markdown",
   "metadata": {},
   "source": [
    "# Flask JWT Roles for User / Admin User\n",
    "## Presented by Team WRONG\n"
   ]
  },
  {
   "cell_type": "markdown",
   "metadata": {},
   "source": [
    "## How To Authenticate Flask API Using JWT\n",
    "https://www.loginradius.com/blog/engineering/guest-post/securing-flask-api-with-jwt/\n",
    "https://github.com/nighthawkcoders/flask_portfolio/issues/42\n",
    "\n",
    "Rayyan Darugar & Nathan Obodovski\n",
    "\n"
   ]
  },
  {
   "cell_type": "markdown",
   "metadata": {},
   "source": [
    "## Role-Based Authorization and Routes for Authorization\n",
    "https://flask-user.readthedocs.io/en/latest/authorization.html\n",
    "one person can do this\n",
    "\n",
    "Jason Gao"
   ]
  },
  {
   "cell_type": "markdown",
   "metadata": {},
   "source": [
    "## Changing Data-Models to Add Roles\n",
    "https://flask-user.readthedocs.io/en/latest/data_models.html#roleanduserroledatamodels\n",
    "probably split this among one-two people\n",
    "\n",
    "Grayson Guyot and Will Bartelt"
   ]
  },
  {
   "cell_type": "markdown",
   "metadata": {},
   "source": [
    "## Data models\n",
    "\n",
    "Data models define a structure of data as well as the relationship between different parts and elements of the data. You can name your single data model class User. This name can be anything you want. The name can be fixed or flexible depending on the requirments of what is being applied to.\n",
    "\n",
    "Flexible data model property names are dynamic and are best for when your data structures change over time. This means it is easier to adapt and change. It gives it less security and might require more effort for validation.\n",
    "Examples: UserRoles.id, UserRoles.user_id, UserRoles.role_id\n",
    "\n",
    "Fixed data model property names are often explicitly defined and remain constant. They are normally consistent and stable which is well suited for when you have a clear data requirment. They are less adaptable to changes in data requirments.\n",
    "Examples: User.id, User.username, User.password, User.email\n",
    "\n",
    "Roles and User Roles: When you add a roles and user roles data models to your function, you add a form of role based authentification which means the original user function must also define a roles relationship property. This makes your data models more manegable by giving it a system that is organized by its roles."
   ]
  }
 ],
 "metadata": {
  "language_info": {
   "name": "python"
  }
 },
 "nbformat": 4,
 "nbformat_minor": 2
}
