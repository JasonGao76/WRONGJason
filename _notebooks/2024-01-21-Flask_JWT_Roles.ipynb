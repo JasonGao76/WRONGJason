{
 "cells": [
  {
   "cell_type": "markdown",
   "metadata": {},
   "source": [
    "---\n",
    "toc: true\n",
    "comments: true\n",
    "layout: post\n",
    "title: Flask JWT Roles for User / Admin Student Lesson\n",
    "description: Flask JWT Roles for User / Admin User student lesson presented by Team WRONG (Will, Rayyan, Jason, Nathan, and Grayson)\n",
    "type: hacks\n",
    "courses: { compsci: {week: 20} }\n",
    "---"
   ]
  },
  {
   "cell_type": "markdown",
   "metadata": {},
   "source": [
    "# Flask JWT Roles for User / Admin User\n",
    "## Presented by Team WRONG\n"
   ]
  },
  {
   "cell_type": "markdown",
   "metadata": {},
   "source": [
    "## How To Authenticate Flask API Using JWT\n",
    "https://www.loginradius.com/blog/engineering/guest-post/securing-flask-api-with-jwt/\n",
    "https://github.com/nighthawkcoders/flask_portfolio/issues/42\n",
    "Probably split this among two-three people"
   ]
  },
  {
   "cell_type": "markdown",
   "metadata": {},
   "source": [
    "## Role-Based Authorization and Routes for Authorization\n",
    "https://flask-user.readthedocs.io/en/latest/authorization.html\n",
    "one person can do this"
   ]
  },
  {
   "cell_type": "markdown",
   "metadata": {},
   "source": [
    "## Changing Data-Models to Add Roles\n",
    "https://flask-user.readthedocs.io/en/latest/data_models.html#roleanduserroledatamodels\n",
    "probably split this among one-two people"
   ]
  }
 ],
 "metadata": {
  "language_info": {
   "name": "python"
  }
 },
 "nbformat": 4,
 "nbformat_minor": 2
}
