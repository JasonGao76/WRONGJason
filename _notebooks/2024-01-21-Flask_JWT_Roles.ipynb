{
 "cells": [
  {
   "cell_type": "markdown",
   "metadata": {},
   "source": [
    "---\n",
    "toc: true\n",
    "comments: true\n",
    "layout: post\n",
    "title: Flask JWT Roles for User / Admin Student Lesson\n",
    "description: Flask JWT Roles for User / Admin User student lesson presented by Team WRONG (Will, Rayyan, Jason, Nathan, and Grayson)\n",
    "type: hacks\n",
    "courses: { compsci: {week: 20} }\n",
    "---"
   ]
  },
  {
   "cell_type": "markdown",
   "metadata": {},
   "source": [
    "# Flask JWT Roles for User / Admin User\n",
    "## Presented by Team WRONG\n"
   ]
  },
  {
   "cell_type": "markdown",
   "metadata": {},
   "source": [
    "## How To Authenticate Flask API Using JWT\n",
    "https://www.loginradius.com/blog/engineering/guest-post/securing-flask-api-with-jwt/\n",
    "https://github.com/nighthawkcoders/flask_portfolio/issues/42\n",
    "\n",
    "Rayyan Darugar & Nathan Obodovski\n",
    "\n"
   ]
  },
  {
   "cell_type": "markdown",
   "metadata": {},
   "source": [
    "## Role-Based Authorization and Routes for Authorization\n",
    "### The decorators and \"@roles_required()\"\n",
    "> Decorators are essentially special functions that modify another function, placed before the function to be modified using the format \"@name()\"\n",
    "- You can actually define the function by defining a regular function with the same \"name\" as in the \"@name()\", or import it which is what we will do\n",
    "> We can use this decorator \"@roles_required()\" to decorate a function, making it so the function runs ONLY if the decorator is fulfilled\n",
    "- Decorator is fulfilled if the user is 1. logged in, and 2. has the role names specified in the decorator\n",
    "    - If these conditions are not fulfilled, the \"Unauthorized access\" error will be shown and user is redirected to USER_UNAUTHORIZED_ENDPOINT (check chatgpt for how to edit, maybe include that too)"
   ]
  },
  {
   "cell_type": "code",
   "execution_count": null,
   "metadata": {},
   "outputs": [],
   "source": [
    "from flask import route # import route function to use as decorator\n",
    "from flask_user import roles_required # import roles_required function to use as decorator\n",
    "\n",
    "# HEY!!! note that flask_user import has been yoinked, so this import no longer exists\n",
    "# there do exist other flask alternatives, but they functionally do the same thing just with different lines of code\n",
    "# the goal is to teach you the concepts of how we can define routes, decorate functions, check for roles, define endpoints, etc.\n",
    "# if we get word of an alternative to specifically use, it'll be explained here too\n",
    "\n",
    "# General example\n",
    "@route('Path') # replace \"Path\" with the actual path to the page the person is accessing\n",
    "@roles_required('Role') # replace \"Role\" with the roles the person needs to have\n",
    "def function(): # replace function and pass with the actual function and code\n",
    "    pass\n",
    "\n",
    "# Specific example\n",
    "@route('/admin/dashboard')    \n",
    "@roles_required('Admin')\n",
    "def admin_dashboard():\n",
    "    pass"
   ]
  },
  {
   "cell_type": "markdown",
   "metadata": {},
   "source": [
    "### Examining the Example Code\n",
    "> \"@route('Path')\"\n",
    "- Essentially every function that you want to use to display something at another page needs to have this @route decorator as the outer-most decorator\n",
    "- Routes are basically the URL of the page you want to add the function to\n",
    "- In the example, I want to add some functionality to the page with the URL /admin/dashboard (which is after the base URL)\n",
    "    - Note that a \"'/'\" route just means home\n",
    "\n",
    "> \"@roles_required('Role')\"\n",
    "- Again, this ensures that user is 1. logged in and 2. has the proper roles to access the route specified in \"@route('Path')\"\n",
    "- In the example, the decorator checks that the user has the 'Admin' role first before accessing the page /admin/dashboard and running the function to create the page\n",
    "    - Note that this is case sensitive, so the role the user must have is 'Admin' and not 'admin'\n",
    "\n",
    "### Adding Complexity to Roles with AND/OR\n",
    "> We now can check a user's role before accessing a route, very cool, but we can make it more complex and check for multiple roles or if they have at least 1 out of mulltiple roles using AND and OR respectively\n",
    "- To use AND: separate the different role names with commas in the decorator\n",
    "- To use OR: specify the role names in a list, using [], within the decorator\n",
    "> See below for examples"
   ]
  },
  {
   "cell_type": "code",
   "execution_count": null,
   "metadata": {},
   "outputs": [],
   "source": [
    "# Same example as above, but incorporating the AND, OR, and both AND/OR checks\n",
    "# AND\n",
    "@route('/admin/dashboard')    \n",
    "@roles_required('Admin', 'Premium') # Checks that user has both 'Admin' AND 'Premium' role before allowing access to route\n",
    "def admin_dashboard():\n",
    "    pass\n",
    "\n",
    "# OR\n",
    "@route('/admin/dashboard')    \n",
    "@roles_required(['Admin', 'Premium']) # Checks that user has either 'Admin' OR 'Premium' role before allowing access to route\n",
    "def admin_dashboard():\n",
    "    pass\n",
    "\n",
    "# Both AND/OR\n",
    "@route('/admin/dashboard')    \n",
    "@roles_required('Admin', ['Premium', 'VIP']) # Checks that user has both 'Admin' AND either 'Premium' OR 'VIP' role before allowing access to route\n",
    "def admin_dashboard():\n",
    "    pass"
   ]
  },
  {
   "cell_type": "markdown",
   "metadata": {},
   "source": [
    "## Changing Data-Models to Add Roles\n",
    "https://flask-user.readthedocs.io/en/latest/data_models.html#roleanduserroledatamodels\n",
    "probably split this among one-two people\n",
    "\n",
    "Grayson Guyot and Will Bartelt"
   ]
  },
  {
   "cell_type": "markdown",
   "metadata": {},
   "source": [
    "## Data models\n",
    "\n",
    "Data models define a structure of data as well as the relationship between different parts and elements of the data. You can name your single data model class User. This name can be anything you want. The name can be fixed or flexible depending on the requirments of what is being applied to.\n",
    "\n",
    "Flexible data model property names are dynamic and are best for when your data structures change over time. This means it is easier to adapt and change. It gives it less security and might require more effort for validation.\n",
    "Examples: UserRoles.id, UserRoles.user_id, UserRoles.role_id\n",
    "\n",
    "Fixed data model property names are often explicitly defined and remain constant. They are normally consistent and stable which is well suited for when you have a clear data requirment. They are less adaptable to changes in data requirments.\n",
    "Examples: User.id, User.username, User.password, User.email\n",
    "\n",
    "Roles and User Roles: When you add a roles and user roles data models to your function, you add a form of role based authentification which means the original user function must also define a roles relationship property. This makes your data models more manegable by giving it a system that is organized by its roles."
   ]
  }
 ],
 "metadata": {
  "language_info": {
   "name": "python"
  }
 },
 "nbformat": 4,
 "nbformat_minor": 2
}
