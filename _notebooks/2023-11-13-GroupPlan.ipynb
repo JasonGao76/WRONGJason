{
 "cells": [
  {
   "cell_type": "markdown",
   "metadata": {},
   "source": [
    "---\n",
    "toc: true\n",
    "comments: true\n",
    "layout: notebook\n",
    "title: Group Plan for Binary Project\n",
    "description: Notebook to go over binary project roles and ideas\n",
    "courses: { compsci: {week: 13} }\n",
    "type: hacks\n",
    "---"
   ]
  },
  {
   "cell_type": "markdown",
   "metadata": {},
   "source": [
    "## PROJECT IDEA\n",
    "\n",
    "- A binary hand counter learning tool! Learn how to count and calculate binary on your hands with our helpful photo visualization, and test your knowledge to study effectively\n",
    "- 2 sections - learning section and testing section\n",
    "- In the learning section you have a click by click selection of binary numbers displayable on one (nathan shaped) hand with photos and audio\n",
    "- In the testing section we display a picture and you enter in what number that is in binary, using random selection and html forms\n",
    "\n",
    "## Group Breakdown\n",
    "\n",
    "- Grayson & Nathan = Pair 1\n",
    "- Jason & Rayyan = Pair 2\n",
    "\n",
    "\n",
    "- Grayson and Nathan work on learning section\n",
    "- Rayyan and Jason work on testing section\n",
    "\n",
    "- Grayson researches random display function\n",
    "- Nathan takes and displays binary hand photos\n",
    "- Jason and Rayyan collaborate on Test feature (html)"
   ]
  }
 ],
 "metadata": {
  "language_info": {
   "name": "python"
  }
 },
 "nbformat": 4,
 "nbformat_minor": 2
}
