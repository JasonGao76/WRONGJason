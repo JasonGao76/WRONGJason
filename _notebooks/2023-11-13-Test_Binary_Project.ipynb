{
 "cells": [
  {
   "cell_type": "markdown",
   "metadata": {},
   "source": [
    "---\n",
    "toc: true\n",
    "comments: true\n",
    "layout: post\n",
    "title: Test for the Binary Project\n",
    "description: Creating and testing the test for the Binary Project\n",
    "type: hacks\n",
    "courses: { compsci: {week: 13} }\n",
    "---"
   ]
  },
  {
   "cell_type": "code",
   "execution_count": 4,
   "metadata": {
    "vscode": {
     "languageId": "html"
    }
   },
   "outputs": [
    {
     "data": {
      "text/html": [
       "\n",
       "<body>\n",
       "    <h1>Test yourself on what you just learned here!</h1>\n",
       "    <form id=\"quizForm\">\n",
       "        <!-- Question 1 -->\n",
       "        <div class=\"questions\" id=\"question1\">\n",
       "            <label for=\"q1\">Question 1: What is the number corresponding to this binary hand signal?</label>\n",
       "            <input type=\"number\" id=\"q1\" name=\"q1\" min=\"0\" max=\"31\"> <br>\n",
       "            <img id=\"imageq1\" src=\"https://files.slack.com/files-pri/TUDAF53UJ-F066H1ZS8GG/image.png\">\n",
       "            <br><br>\n",
       "        </div>\n",
       "\n",
       "        <!-- Question 2 -->\n",
       "        <div class=\"questions\" id=\"question2\">\n",
       "            <label for=\"q2\">Question 2: What is the number corresponding to this binary hand signal?</label>\n",
       "            <input type=\"number\" id=\"q2\" name=\"q2\" min=\"0\" max=\"31\"> <br>\n",
       "            <img id=\"imageq2\" src=\"\">\n",
       "            <br><br>\n",
       "        </div>\n",
       "\n",
       "        <!-- Question 3 -->\n",
       "        <div class=\"questions\" id=\"question3\">\n",
       "            <label for=\"q3\">Question 3: What is the number corresponding to this binary hand signal?</label>\n",
       "            <input type=\"number\" id=\"q3\" name=\"q3\" min=\"0\" max=\"31\"> <br>\n",
       "            <img id=\"imageq3\" src=\"\">\n",
       "            <br><br>\n",
       "        </div>\n",
       "    \n",
       "        <!-- Question 4 -->\n",
       "        <div class=\"questions\" id=\"question4\">\n",
       "            <label for=\"q4\">Question 4: What is the number corresponding to this binary hand signal?</label>\n",
       "            <input type=\"number\" id=\"q4\" name=\"q4\" min=\"0\" max=\"31\"> <br>\n",
       "            <img id=\"imageq4\" src=\"\">\n",
       "            <br><br>\n",
       "        </div>\n",
       "\n",
       "        <!-- Button to Submit -->\n",
       "        <button type=\"button\" onclick=\"checkAnswers()\">Submit Answers</button>\n",
       "    </form>\n",
       "\n",
       "    <div id=\"result\"></div>\n",
       "\n",
       "    <!-- <script src=\"JS_Files/2023-11-13-Random_Image_Binary_Project.js\"></script> -->\n",
       "    <!-- <script src=\"\"></script>, add path to answer check --> \n",
       "</body>\n",
       "</html>\n"
      ],
      "text/plain": [
       "<IPython.core.display.HTML object>"
      ]
     },
     "metadata": {},
     "output_type": "display_data"
    }
   ],
   "source": [
    "%%html\n",
    "\n",
    "<body>\n",
    "    <h1>Test yourself on what you just learned here!</h1>\n",
    "    <form id=\"quizForm\">\n",
    "        <!-- Question 1 -->\n",
    "        <div class=\"questions\" id=\"question1\">\n",
    "            <label for=\"q1\">Question 1: What is the number corresponding to this binary hand signal?</label>\n",
    "            <input type=\"number\" id=\"q1\" name=\"q1\" min=\"0\" max=\"31\"> <br>\n",
    "            <img id=\"imageq1\" src=\"https://files.slack.com/files-pri/TUDAF53UJ-F066H1ZS8GG/image.png\"> <!-- so this link doesn't work-->\n",
    "            <br><br>\n",
    "        </div>\n",
    "\n",
    "        <!-- Question 2 -->\n",
    "        <div class=\"questions\" id=\"question2\">\n",
    "            <label for=\"q2\">Question 2: What is the number corresponding to this binary hand signal?</label>\n",
    "            <input type=\"number\" id=\"q2\" name=\"q2\" min=\"0\" max=\"31\"> <br>\n",
    "            <img id=\"imageq2\" src=\"https://www.whitehouse.gov/wp-content/uploads/2021/01/17_andrew_johnson.jpg\"> <!-- this link does work -->\n",
    "            <br><br>\n",
    "        </div>\n",
    "\n",
    "        <!-- Question 3 -->\n",
    "        <div class=\"questions\" id=\"question3\">\n",
    "            <label for=\"q3\">Question 3: What is the number corresponding to this binary hand signal?</label>\n",
    "            <input type=\"number\" id=\"q3\" name=\"q3\" min=\"0\" max=\"31\"> <br>\n",
    "            <img id=\"imageq3\" src=\"https://media.discordapp.net/attachments/851214581955297320/1174284467548995704/image.png?ex=656708a2&is=655493a2&hm=b33d947914ee42eb9ffaaa6ae5cd1a7d96a50f620a6077915a47eab937124e1f&=&width=802&height=597\"> <!-- this link works, so I could just send it all in discord and add those links into the JS script but why path no work :sob: -->\n",
    "            <br><br>\n",
    "        </div>\n",
    "    \n",
    "        <!-- Question 4 -->\n",
    "        <div class=\"questions\" id=\"question4\">\n",
    "            <label for=\"q4\">Question 4: What is the number corresponding to this binary hand signal?</label>\n",
    "            <input type=\"number\" id=\"q4\" name=\"q4\" min=\"0\" max=\"31\"> <br>\n",
    "            <img id=\"imageq4\" src=\"\">\n",
    "            <br><br>\n",
    "        </div>\n",
    "\n",
    "        <!-- Button to Submit -->\n",
    "        <button type=\"button\" onclick=\"checkAnswers()\">Submit Answers</button>\n",
    "    </form>\n",
    "\n",
    "    <div id=\"result\"></div>\n",
    "\n",
    "    <script src=\"JS_Files/2023-11-13-Random_Image_Binary_Project.js\"></script> <!-- this path doesnt work for some reason -->\n",
    "    <!-- <script src=\"\"></script>, add path to answer check --> \n",
    "</body>\n",
    "</html>\n"
   ]
  }
 ],
 "metadata": {
  "kernelspec": {
   "display_name": "Python 3",
   "language": "python",
   "name": "python3"
  },
  "language_info": {
   "codemirror_mode": {
    "name": "ipython",
    "version": 3
   },
   "file_extension": ".py",
   "mimetype": "text/x-python",
   "name": "python",
   "nbconvert_exporter": "python",
   "pygments_lexer": "ipython3",
   "version": "3.10.12"
  }
 },
 "nbformat": 4,
 "nbformat_minor": 2
}
