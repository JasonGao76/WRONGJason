{
 "cells": [
  {
   "cell_type": "markdown",
   "metadata": {},
   "source": [
    "---\n",
    "toc: true\n",
    "comments: true\n",
    "layout: post\n",
    "title: Test for the Binary Project\n",
    "description: Creating and testing the test for the Binary Project\n",
    "type: hacks\n",
    "courses: { compsci: {week: 13} }\n",
    "---"
   ]
  },
  {
   "cell_type": "code",
   "execution_count": 13,
   "metadata": {
    "vscode": {
     "languageId": "html"
    }
   },
   "outputs": [
    {
     "data": {
      "text/html": [
       "\n",
       "<body>\n",
       "    <h1>Test yourself on what you just learned here!</h1>\n",
       "    <form id=\"quizForm\">\n",
       "        <!-- Question 1 -->\n",
       "        <div class=\"questions\" id=\"question1\">\n",
       "            <label for=\"q1\">Question 1: What is the number corresponding to this binary hand signal?</label>\n",
       "            <input type=\"number\" id=\"q1\" name=\"q1\" min=\"0\" max=\"31\"> <br>\n",
       "            <img id=\"imageq1\" src=\"https://media.discordapp.net/attachments/851214581955297320/1174284467548995704/image.png?ex=656708a2&is=655493a2&hm=b33d947914ee42eb9ffaaa6ae5cd1a7d96a50f620a6077915a47eab937124e1f&=&width=802&height=597\">\n",
       "            <br><br>\n",
       "        </div>\n",
       "\n",
       "        <!-- Question 2 -->\n",
       "        <div class=\"questions\" id=\"question2\">\n",
       "            <label for=\"q2\">Question 2: What is the number corresponding to this binary hand signal?</label>\n",
       "            <input type=\"number\" id=\"q2\" name=\"q2\" min=\"0\" max=\"31\"> <br>\n",
       "            <img id=\"imageq2\" src=\"\"> \n",
       "            <br><br>\n",
       "        </div>\n",
       "\n",
       "        <!-- Question 3 -->\n",
       "        <div class=\"questions\" id=\"question3\">\n",
       "            <label for=\"q3\">Question 3: What is the number corresponding to this binary hand signal?</label>\n",
       "            <input type=\"number\" id=\"q3\" name=\"q3\" min=\"0\" max=\"31\"> <br>\n",
       "            <img id=\"imageq3\" src=\"\">\n",
       "            <br><br>\n",
       "        </div>\n",
       "    \n",
       "        <!-- Question 4 -->\n",
       "        <div class=\"questions\" id=\"question4\">\n",
       "            <label for=\"q4\">Question 4: What is the number corresponding to this binary hand signal?</label>\n",
       "            <input type=\"number\" id=\"q4\" name=\"q4\" min=\"0\" max=\"31\"> <br>\n",
       "            <img id=\"imageq4\" src=\"https://lh3.googleusercontent.com/pw/ADCreHcOEgVC5jzhfcfeCrPo_u7NuxQAQzB2spokcpnlTN6Elhtjga_T7GV_fhfFSmIq4LRSph2bBMPcgVrl7GXrs1S1UeR2ABLNK2VLtr_jHrBSunEHIYrkOlCC1W5Hdb5DRikWIZexstDZBYCEBbXY2XHy-odhB8byCFgZuB3Rj6LfkfICmKKbUYGP7lWDf3AJD-CKyx8KS7gbfcLS3hll3ZQWmddOcUZZb5FttyR54F14xUDVq70hYFeZ22y71gG948aBz2IrxJjc-xupQJkwLuRL6OTXpslasEZt0C63AbAXUxyY5hoQzdaDYgxEi2j7jSwb5OdiwPZLJ1RfA_7fQ-h4fjA-0Pdx3N2OA6mn7gnD0u1C96nr7bYVtg3vxDFHbgkdmsDfo5YTLc-aELMw2_Tqip-PfCmUO3FAVlrg2KYoAHj1fuqKfB5w0a3QgEYcMJBHhVQTistt_D5xngmzs6YICjp242QnRkUUHfA6gPLnWD7yJXLs4XASujvX7Fi-hqVUEwvy8B2f3ipGE4fzbt_YZJEadR41edSAnsjw4kCqhdrTrV4X5dp6b_8jfoWEU79sC94MqxFHP4zg-ABdAXA-FRxDp9ew-FRKx1QiqMNTwmMy0rPIYzUBD3Sl1FuZwGkp4duJqr_W4KIP60Jo_wv05zB_ovZ1Ua91rnHQ6-nTfwI8-sPipFdgFvFwyTbM_2zaFdix6gCsZ1EUawXym_Yw1JjySa9FRxIRDhN4M7RCMAZz4y1GLAtP6JGs-pU351OhQY-JOz6Yq8RcTyyvV2Zh3dzgi2jGdpvRslBgEnGCYA_k94Yf4mGKO6sXiix4VZ0hqvMFtSIEXYwg0rHhqjvMXxGUrkxnWYMr8XQSG3KcXxkE7rd7G4SvK1OvZWQLEEfUD3cbQbi2m8y6VYGvqLyM6KhoyKNppq8e4SxOYsSCzTlxJXeXd6iPeN82MptvsNbC1Lk4s9BHzge3J5F3qowqLQuLyr2y=w836-h631-s-no-gm?authuser=0\">\n",
       "            <br><br> <!-- google photos also possible -->\n",
       "        </div>\n",
       "\n",
       "        <!-- Button to Submit and Refresh images -->\n",
       "        <button type=\"button\" onclick=\"randomImage()\">Refresh Images</button>\n",
       "        <button type=\"button\" onclick=\"checkQuiz()\">Submit Answers</button>\n",
       "    </form>\n",
       "\n",
       "    <div id=\"result\"></div>\n",
       "\n",
       "    <script src=\"JS_Scripts/2023-11-13-Random_Image_Binary_Project.js\"></script> <!-- should be working -->\n",
       "    <script src=\"JS_Scripts/2023-11-13-Check_Quiz_Binary_Project.js\"></script>\n",
       "</body>\n",
       "</html>\n"
      ],
      "text/plain": [
       "<IPython.core.display.HTML object>"
      ]
     },
     "metadata": {},
     "output_type": "display_data"
    }
   ],
   "source": [
    "%%html\n",
    "\n",
    "<body>\n",
    "    <h1>Test yourself on what you just learned here!</h1>\n",
    "    <form id=\"quizForm\">\n",
    "        <!-- Question 1 -->\n",
    "        <div class=\"questions\" id=\"question1\">\n",
    "            <label for=\"q1\">Question 1: What is the number corresponding to this binary hand signal?</label>\n",
    "            <input type=\"number\" id=\"q1\" name=\"q1\" min=\"0\" max=\"31\"> <br>\n",
    "            <img id=\"imageq1\" src=\"https://media.discordapp.net/attachments/851214581955297320/1174284467548995704/image.png?ex=656708a2&is=655493a2&hm=b33d947914ee42eb9ffaaa6ae5cd1a7d96a50f620a6077915a47eab937124e1f&=&width=802&height=597\">\n",
    "            <br><br>\n",
    "        </div>\n",
    "\n",
    "        <!-- Question 2 -->\n",
    "        <div class=\"questions\" id=\"question2\">\n",
    "            <label for=\"q2\">Question 2: What is the number corresponding to this binary hand signal?</label>\n",
    "            <input type=\"number\" id=\"q2\" name=\"q2\" min=\"0\" max=\"31\"> <br>\n",
    "            <img id=\"imageq2\" src=\"\"> \n",
    "            <br><br>\n",
    "        </div>\n",
    "\n",
    "        <!-- Question 3 -->\n",
    "        <div class=\"questions\" id=\"question3\">\n",
    "            <label for=\"q3\">Question 3: What is the number corresponding to this binary hand signal?</label>\n",
    "            <input type=\"number\" id=\"q3\" name=\"q3\" min=\"0\" max=\"31\"> <br>\n",
    "            <img id=\"imageq3\" src=\"\">\n",
    "            <br><br>\n",
    "        </div>\n",
    "    \n",
    "        <!-- Question 4 -->\n",
    "        <div class=\"questions\" id=\"question4\">\n",
    "            <label for=\"q4\">Question 4: What is the number corresponding to this binary hand signal?</label>\n",
    "            <input type=\"number\" id=\"q4\" name=\"q4\" min=\"0\" max=\"31\"> <br>\n",
    "            <img id=\"imageq4\" src=\"https://lh3.googleusercontent.com/pw/ADCreHcOEgVC5jzhfcfeCrPo_u7NuxQAQzB2spokcpnlTN6Elhtjga_T7GV_fhfFSmIq4LRSph2bBMPcgVrl7GXrs1S1UeR2ABLNK2VLtr_jHrBSunEHIYrkOlCC1W5Hdb5DRikWIZexstDZBYCEBbXY2XHy-odhB8byCFgZuB3Rj6LfkfICmKKbUYGP7lWDf3AJD-CKyx8KS7gbfcLS3hll3ZQWmddOcUZZb5FttyR54F14xUDVq70hYFeZ22y71gG948aBz2IrxJjc-xupQJkwLuRL6OTXpslasEZt0C63AbAXUxyY5hoQzdaDYgxEi2j7jSwb5OdiwPZLJ1RfA_7fQ-h4fjA-0Pdx3N2OA6mn7gnD0u1C96nr7bYVtg3vxDFHbgkdmsDfo5YTLc-aELMw2_Tqip-PfCmUO3FAVlrg2KYoAHj1fuqKfB5w0a3QgEYcMJBHhVQTistt_D5xngmzs6YICjp242QnRkUUHfA6gPLnWD7yJXLs4XASujvX7Fi-hqVUEwvy8B2f3ipGE4fzbt_YZJEadR41edSAnsjw4kCqhdrTrV4X5dp6b_8jfoWEU79sC94MqxFHP4zg-ABdAXA-FRxDp9ew-FRKx1QiqMNTwmMy0rPIYzUBD3Sl1FuZwGkp4duJqr_W4KIP60Jo_wv05zB_ovZ1Ua91rnHQ6-nTfwI8-sPipFdgFvFwyTbM_2zaFdix6gCsZ1EUawXym_Yw1JjySa9FRxIRDhN4M7RCMAZz4y1GLAtP6JGs-pU351OhQY-JOz6Yq8RcTyyvV2Zh3dzgi2jGdpvRslBgEnGCYA_k94Yf4mGKO6sXiix4VZ0hqvMFtSIEXYwg0rHhqjvMXxGUrkxnWYMr8XQSG3KcXxkE7rd7G4SvK1OvZWQLEEfUD3cbQbi2m8y6VYGvqLyM6KhoyKNppq8e4SxOYsSCzTlxJXeXd6iPeN82MptvsNbC1Lk4s9BHzge3J5F3qowqLQuLyr2y=w836-h631-s-no-gm?authuser=0\">\n",
    "            <br><br> <!-- google photos also possible -->\n",
    "        </div>\n",
    "\n",
    "        <!-- Button to Submit and Refresh images -->\n",
    "        <button type=\"button\" onclick=\"randomImage()\">Refresh Images</button>\n",
    "        <button type=\"button\" onclick=\"checkQuiz()\">Submit Answers</button>\n",
    "    </form>\n",
    "\n",
    "    <div id=\"result\"></div>\n",
    "\n",
    "    <script src=\"JS_Scripts/2023-11-13-Random_Image_Binary_Project.js\"></script> <!-- should be working -->\n",
    "    <script src=\"JS_Scripts/2023-11-13-Check_Quiz_Binary_Project.js\"></script>\n",
    "</body>\n",
    "</html>\n"
   ]
  }
 ],
 "metadata": {
  "kernelspec": {
   "display_name": "Python 3 (ipykernel)",
   "language": "python",
   "name": "python3"
  },
  "language_info": {
   "codemirror_mode": {
    "name": "ipython",
    "version": 3
   },
   "file_extension": ".py",
   "mimetype": "text/x-python",
   "name": "python",
   "nbconvert_exporter": "python",
   "pygments_lexer": "ipython3",
   "version": "3.10.12"
  }
 },
 "nbformat": 4,
 "nbformat_minor": 2
}
