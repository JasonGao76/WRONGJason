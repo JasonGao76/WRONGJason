{
 "cells": [
  {
   "cell_type": "markdown",
   "metadata": {},
   "source": [
    "---\n",
    "toc: true\n",
    "comments: true\n",
    "layout: post\n",
    "title: Test for the Binary Project\n",
    "description: Creating and testing the test for the Binary Project\n",
    "type: hacks\n",
    "courses: { compsci: {week: 13} }\n",
    "---"
   ]
  },
  {
   "cell_type": "code",
   "execution_count": 3,
   "metadata": {
    "vscode": {
     "languageId": "html"
    }
   },
   "outputs": [
    {
     "data": {
      "text/html": [
       "\n",
       "<body>\n",
       "    <h1>Test yourself on what you just learned here!</h1>\n",
       "    <h2>Start by clicking the \"Refresh Images\" button</h2>\n",
       "    <form id=\"quizForm\">\n",
       "        <!-- Question 1 -->\n",
       "        <div class=\"questions\" id=\"question1\">\n",
       "            <label for=\"q1\">Question 1: What is the number corresponding to this binary hand signal?</label>\n",
       "            <input type=\"number\" id=\"q1\" name=\"q1\" min=\"0\" max=\"31\"> <br>\n",
       "            <img id=\"imageq1\" src=\"\">\n",
       "            <br><br>\n",
       "        </div>\n",
       "\n",
       "        <!-- Question 2 -->\n",
       "        <div class=\"questions\" id=\"question2\">\n",
       "            <label for=\"q2\">Question 2: What is the number corresponding to this binary hand signal?</label>\n",
       "            <input type=\"number\" id=\"q2\" name=\"q2\" min=\"0\" max=\"31\"> <br>\n",
       "            <img id=\"imageq2\" src=\"\"> \n",
       "            <br><br>\n",
       "        </div>\n",
       "\n",
       "        <!-- Question 3 -->\n",
       "        <div class=\"questions\" id=\"question3\">\n",
       "            <label for=\"q3\">Question 3: What is the number corresponding to this binary hand signal?</label>\n",
       "            <input type=\"number\" id=\"q3\" name=\"q3\" min=\"0\" max=\"31\"> <br>\n",
       "            <img id=\"imageq3\" src=\"\">\n",
       "            <br><br>\n",
       "        </div>\n",
       "    \n",
       "        <!-- Question 4 -->\n",
       "        <div class=\"questions\" id=\"question4\">\n",
       "            <label for=\"q4\">Question 4: What is the number corresponding to this binary hand signal?</label>\n",
       "            <input type=\"number\" id=\"q4\" name=\"q4\" min=\"0\" max=\"31\"> <br>\n",
       "            <img id=\"imageq4\" src=\"\">\n",
       "            <br><br>\n",
       "        </div>\n",
       "\n",
       "        <!-- Button to Submit and Refresh images -->\n",
       "        <button type=\"button\" onclick=\"randomImage()\">Refresh Images</button>\n",
       "        <button type=\"button\" onclick=\"checkQuiz()\">Submit Answers</button>\n",
       "    </form>\n",
       "\n",
       "    <div id=\"result\"></div>\n",
       "\n",
       "    <script src=\"JS_Scripts/2023-11-13-Random_Image_Binary_Project.js\"></script> <!-- should be working -->\n",
       "    <script src=\"JS_Scripts/2023-11-13-Check_Quiz_Binary_Project.js\"></script>\n",
       "</body>\n",
       "</html>\n"
      ],
      "text/plain": [
       "<IPython.core.display.HTML object>"
      ]
     },
     "metadata": {},
     "output_type": "display_data"
    }
   ],
   "source": [
    "%%html\n",
    "\n",
    "<body>\n",
    "    <h1>Test yourself on what you just learned here!</h1>\n",
    "    <h2>Start by clicking the \"Refresh Images\" button</h2>\n",
    "    <form id=\"quizForm\">\n",
    "        <!-- Question 1 -->\n",
    "        <div class=\"questions\" id=\"question1\">\n",
    "            <label for=\"q1\">Question 1: What is the number corresponding to this binary hand signal?</label>\n",
    "            <input type=\"number\" id=\"q1\" name=\"q1\" min=\"0\" max=\"31\"> <br>\n",
    "            <img id=\"imageq1\" src=\"\">\n",
    "            <br><br>\n",
    "        </div>\n",
    "\n",
    "        <!-- Question 2 -->\n",
    "        <div class=\"questions\" id=\"question2\">\n",
    "            <label for=\"q2\">Question 2: What is the number corresponding to this binary hand signal?</label>\n",
    "            <input type=\"number\" id=\"q2\" name=\"q2\" min=\"0\" max=\"31\"> <br>\n",
    "            <img id=\"imageq2\" src=\"\"> \n",
    "            <br><br>\n",
    "        </div>\n",
    "\n",
    "        <!-- Question 3 -->\n",
    "        <div class=\"questions\" id=\"question3\">\n",
    "            <label for=\"q3\">Question 3: What is the number corresponding to this binary hand signal?</label>\n",
    "            <input type=\"number\" id=\"q3\" name=\"q3\" min=\"0\" max=\"31\"> <br>\n",
    "            <img id=\"imageq3\" src=\"\">\n",
    "            <br><br>\n",
    "        </div>\n",
    "    \n",
    "        <!-- Question 4 -->\n",
    "        <div class=\"questions\" id=\"question4\">\n",
    "            <label for=\"q4\">Question 4: What is the number corresponding to this binary hand signal?</label>\n",
    "            <input type=\"number\" id=\"q4\" name=\"q4\" min=\"0\" max=\"31\"> <br>\n",
    "            <img id=\"imageq4\" src=\"\">\n",
    "            <br><br>\n",
    "        </div>\n",
    "\n",
    "        <!-- Button to Submit and Refresh images -->\n",
    "        <button type=\"button\" onclick=\"randomImage()\">Refresh Images</button>\n",
    "        <button type=\"button\" onclick=\"checkQuiz()\">Submit Answers</button>\n",
    "    </form>\n",
    "\n",
    "    <div id=\"result\"></div>\n",
    "\n",
    "    <script src=\"JS_Scripts/2023-11-13-Random_Image_Binary_Project.js\"></script> <!-- should be working -->\n",
    "    <script src=\"JS_Scripts/2023-11-13-Check_Quiz_Binary_Project.js\"></script>\n",
    "</body>\n",
    "</html>\n"
   ]
  }
 ],
 "metadata": {
  "kernelspec": {
   "display_name": "Python 3 (ipykernel)",
   "language": "python",
   "name": "python3"
  },
  "language_info": {
   "codemirror_mode": {
    "name": "ipython",
    "version": 3
   },
   "file_extension": ".py",
   "mimetype": "text/x-python",
   "name": "python",
   "nbconvert_exporter": "python",
   "pygments_lexer": "ipython3",
   "version": "3.10.12"
  }
 },
 "nbformat": 4,
 "nbformat_minor": 2
}
