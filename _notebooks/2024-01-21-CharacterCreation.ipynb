{
 "cells": [
  {
   "cell_type": "markdown",
   "metadata": {},
   "source": [
    "---\n",
    "toc: true\n",
    "comments: true\n",
    "layout: post\n",
    "title: Character Creation Screen\n",
    "description: Character creation screen for the CPT project\n",
    "type: hacks\n",
    "courses: { compsci: {week: 20} }\n",
    "permalink: characterCreation\n",
    "---"
   ]
  },
  {
   "cell_type": "code",
   "execution_count": 5,
   "metadata": {
    "vscode": {
     "languageId": "html"
    }
   },
   "outputs": [
    {
     "data": {
      "text/html": [
       "\n",
       "<html>\n",
       "<head>\n",
       "<style>\n",
       "    body {\n",
       "        background-color: black;\n",
       "        color: #7e7a7a;\n",
       "    }\n",
       "\n",
       "    \n",
       "    .createcharacterbutton {\n",
       "        text-align: center;\n",
       "        font-size: 30px;\n",
       "        color: white;\n",
       "        background-color: black;\n",
       "        position: absolute;\n",
       "        margin: 0;\n",
       "        left: 30%;\n",
       "        top: 50%;\n",
       "        padding: 40px 100px;\n",
       "    }\n",
       "</style>\n",
       "</head>\n",
       "\n",
       "<body>\n",
       "    <h1>\n",
       "        <!-- placeholder -->\n",
       "    </h1>\n",
       "\n",
       "    <h2>\n",
       "        <!-- placeholder -->\n",
       "    </h2>\n",
       "\n",
       "    <img src=\"https://i.postimg.cc/wj2FYHpM/candle-removebg-preview.png\">\n",
       "\n",
       "    <button class=\"createcharacterbutton\" type=\"button\" onclick=\"()\">Create Character</button>\n",
       "\n",
       "    <script src=\"{{site_baseurl}}/_notebooks/JS_Scripts/\"></script>\n",
       "</body>\n",
       "</html>\n"
      ],
      "text/plain": [
       "<IPython.core.display.HTML object>"
      ]
     },
     "metadata": {},
     "output_type": "display_data"
    }
   ],
   "source": [
    "%%html\n",
    "\n",
    "<html>\n",
    "<head>\n",
    "<style>\n",
    "    body {\n",
    "        background-color: black;\n",
    "        color: #7e7a7a;\n",
    "    }\n",
    "\n",
    "    \n",
    "    .createcharacterbutton {\n",
    "        text-align: center;\n",
    "        font-size: 30px;\n",
    "        color: white;\n",
    "        background-color: black;\n",
    "        position: absolute;\n",
    "        margin: 0;\n",
    "        left: 30%;\n",
    "        top: 50%;\n",
    "        padding: 40px 100px;\n",
    "    }\n",
    "</style>\n",
    "</head>\n",
    "\n",
    "<body>\n",
    "    <h1>\n",
    "        <!-- placeholder -->\n",
    "    </h1>\n",
    "\n",
    "    <h2>\n",
    "        <!-- placeholder -->\n",
    "    </h2>\n",
    "\n",
    "    <img src=\"https://i.postimg.cc/wj2FYHpM/candle-removebg-preview.png\">\n",
    "\n",
    "    <button class=\"createcharacterbutton\" type=\"button\" onclick=\"()\">Create Character</button>\n",
    "\n",
    "    <script src=\"{{site_baseurl}}/_notebooks/JS_Scripts/\"></script>\n",
    "</body>\n",
    "</html>\n"
   ]
  }
 ],
 "metadata": {
  "kernelspec": {
   "display_name": "Python 3",
   "language": "python",
   "name": "python3"
  },
  "language_info": {
   "codemirror_mode": {
    "name": "ipython",
    "version": 3
   },
   "file_extension": ".py",
   "mimetype": "text/x-python",
   "name": "python",
   "nbconvert_exporter": "python",
   "pygments_lexer": "ipython3",
   "version": "3.10.12"
  }
 },
 "nbformat": 4,
 "nbformat_minor": 2
}
